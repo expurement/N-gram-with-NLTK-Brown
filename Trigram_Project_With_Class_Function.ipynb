{
  "nbformat": 4,
  "nbformat_minor": 0,
  "metadata": {
    "colab": {
      "name": "Trigram Project With Class Function.ipynb",
      "provenance": [],
      "collapsed_sections": []
    },
    "kernelspec": {
      "name": "python3",
      "display_name": "Python 3"
    }
  },
  "cells": [
    {
      "cell_type": "markdown",
      "metadata": {
        "id": "NOBvXD8LEVKi",
        "colab_type": "text"
      },
      "source": [
        "# New way to implement Trigram"
      ]
    },
    {
      "cell_type": "code",
      "metadata": {
        "id": "H8GVaJd_ET8h",
        "colab_type": "code",
        "outputId": "b53692ce-0866-443e-d2bd-df2dcc595d55",
        "colab": {
          "base_uri": "https://localhost:8080/",
          "height": 53
        }
      },
      "source": [
        "import nltk\n",
        "nltk.download('brown')\n",
        "from collections import Counter\n",
        "import string\n",
        "import re\n",
        "import numpy as np\n",
        "import matplotlib.pyplot as plt\n",
        "from sklearn.model_selection import KFold\n",
        "from sklearn.model_selection import train_test_split\n",
        "from nltk.corpus import brown\n",
        "from random import choices\n",
        "from random import randint"
      ],
      "execution_count": 1,
      "outputs": [
        {
          "output_type": "stream",
          "text": [
            "[nltk_data] Downloading package brown to /root/nltk_data...\n",
            "[nltk_data]   Package brown is already up-to-date!\n"
          ],
          "name": "stdout"
        }
      ]
    },
    {
      "cell_type": "code",
      "metadata": {
        "id": "crm9DcezEdp1",
        "colab_type": "code",
        "colab": {}
      },
      "source": [
        "X=[]\n",
        "file=brown.sents()\n",
        "n=len(brown.sents())"
      ],
      "execution_count": 0,
      "outputs": []
    },
    {
      "cell_type": "code",
      "metadata": {
        "id": "7d3RkThxEf8i",
        "colab_type": "code",
        "colab": {}
      },
      "source": [
        "for i in range(n):\n",
        "  s = re.sub(r'\\W+',' ',str(file[i])).strip()\n",
        "  s = re.sub(r'\\d+','',s).strip()\n",
        "  s = re.split(r'\\s+',s.lower())\n",
        "  X.append(s)\n",
        "X_train, X_test = train_test_split(X,test_size=0.2, random_state=1)"
      ],
      "execution_count": 0,
      "outputs": []
    },
    {
      "cell_type": "code",
      "metadata": {
        "id": "WBc09nyHYRew",
        "colab_type": "code",
        "colab": {}
      },
      "source": [
        "class data_prep:\n",
        "  def __init__(self,train_data,test_data,n_gram=int(),threshold=int()):\n",
        "    self.train=train_data\n",
        "    self.test=test_data\n",
        "    self.ng=n_gram\n",
        "    self.t=threshold\n",
        "\n",
        "  def n_list(self,data):\n",
        "    data_list=[]\n",
        "    for i in data:\n",
        "      for j in range(self.ng-1):\n",
        "        data_list.append('<s>')\n",
        "      for k in i:\n",
        "        data_list.append(k)\n",
        "      data_list.append('</s>')\n",
        "    return(data_list)\n",
        "  \n",
        "  def cut_off(self,data_list):\n",
        "    data_vocab=Counter(data_list)\n",
        "    count_sum=0\n",
        "    data_vocab_new={}\n",
        "    for i in data_vocab:\n",
        "      if data_vocab[i]<self.t:\n",
        "        count_sum+=data_vocab[i]\n",
        "      else:\n",
        "        data_vocab_new[i]=data_vocab[i]\n",
        "    data_vocab_new['<UNK>']=count_sum\n",
        "    return(data_vocab_new)\n",
        "\n",
        "  def replace_unk(self,data_list,vocab):\n",
        "    data_list_replace=[]\n",
        "    for i in data_list:\n",
        "      if i in vocab:\n",
        "        data_list_replace.append(i)\n",
        "      else:\n",
        "        data_list_replace.append('<UNK>')\n",
        "    return(data_list_replace)\n",
        "\n",
        "  def transform(self):\n",
        "    self.train_list=self.n_list(self.train)\n",
        "    self.test_list=self.n_list(self.test)\n",
        "    self.data_vocab=self.cut_off(self.train_list)\n",
        "    self.train_list_new=self.replace_unk(self.train_list,self.data_vocab)\n",
        "    self.test_list_new=self.replace_unk(self.test_list,self.data_vocab)\n",
        "    return(self.train_list_new,self.test_list_new,self.data_vocab)"
      ],
      "execution_count": 0,
      "outputs": []
    },
    {
      "cell_type": "code",
      "metadata": {
        "id": "lik-bhWCoE_x",
        "colab_type": "code",
        "colab": {}
      },
      "source": [
        "class prob_transform:\n",
        "  def __init__(self,data,n_gram=int()):\n",
        "    self.data=data\n",
        "    self.ng=n_gram\n",
        "\n",
        "  def transform(self):\n",
        "    l=len(self.data)\n",
        "    if self.ng == 1:\n",
        "      return(Counter(self.data))\n",
        "    else:\n",
        "      data_prob={}\n",
        "      for i in range(l-self.ng+1):\n",
        "        temp_key=tuple(self.data[i:i+self.ng-1])\n",
        "        if temp_key not in data_prob:\n",
        "          data_prob[temp_key]={}\n",
        "          data_prob[temp_key][self.data[i+self.ng-1]]=1\n",
        "        else:\n",
        "          if self.data[i+self.ng-1] not in data_prob[temp_key]:\n",
        "            data_prob[temp_key][self.data[i+self.ng-1]]=1\n",
        "          else:\n",
        "            data_prob[temp_key][self.data[i+self.ng-1]]+=1\n",
        "      return(data_prob)"
      ],
      "execution_count": 0,
      "outputs": []
    },
    {
      "cell_type": "code",
      "metadata": {
        "id": "W9h7Agi-TuOa",
        "colab_type": "code",
        "colab": {}
      },
      "source": [
        "class smoothing:\n",
        "  def __init__(self,test_data,prob_dict,vocab,n_gram=int()):\n",
        "    self.data=test_data\n",
        "    self.prob=prob_dict\n",
        "    self.vocab=vocab\n",
        "    self.ng=n_gram\n",
        "\n",
        "  def calc(self,lamb=double()):\n",
        "    n=len(self.data)\n",
        "    m=len(self.vocab)\n",
        "    entro=0\n",
        "    if self.ng ==1:\n",
        "      sum=0\n",
        "      for j in self.prob:\n",
        "        sum+=self.prob[j]\n",
        "      for i in self.data:\n",
        "        c=self.prob[i]\n",
        "        prob=(c+lamb)/(sum+m*lamb)\n",
        "        entro+= -np.log2(prob)\n",
        "    else:\n",
        "      for i in range(n-self.ng+1):\n",
        "        if self.data[i+self.ng-2]=='</s>':\n",
        "          continue\n",
        "        else:\n",
        "          sum = 0\n",
        "          end=i+self.ng-1\n",
        "          temp_key=tuple(self.data[i:end])\n",
        "          if temp_key not in self.prob:\n",
        "            entro+=np.log2(m)\n",
        "          else:\n",
        "            for k in self.prob[temp_key]:\n",
        "              sum+=self.prob[temp_key][k]\n",
        "            if self.data[end] not in self.prob[temp_key]:\n",
        "              c=0\n",
        "            else:\n",
        "              c=self.prob[temp_key][self.data[end]]\n",
        "            prob=(c+lamb)/(sum+m*lamb) \n",
        "            entro+=-np.log2(prob)       \n",
        "    entro=entro/n\n",
        "    return(entro)"
      ],
      "execution_count": 0,
      "outputs": []
    },
    {
      "cell_type": "markdown",
      "metadata": {
        "id": "byehL_2rVQlC",
        "colab_type": "text"
      },
      "source": [
        "Unigram, Bigram and Trigram model training"
      ]
    },
    {
      "cell_type": "code",
      "metadata": {
        "id": "nATBFwLD7SP0",
        "colab_type": "code",
        "colab": {}
      },
      "source": [
        "threshold_para=[10,20,50,100]\n",
        "m=KFold(n_splits=4)"
      ],
      "execution_count": 0,
      "outputs": []
    },
    {
      "cell_type": "code",
      "metadata": {
        "id": "0j7QaTDsWDRK",
        "colab_type": "code",
        "colab": {}
      },
      "source": [
        "lamb_para=[0.001,0.01,0.1,1,10,100,1000]\n",
        "uni_result=[]\n",
        "for t in threshold_para:\n",
        "  uni_cex_sum=[0]*len(lamb_para)\n",
        "  I=0\n",
        "  for l in lamb_para:\n",
        "    uni_cross_entro=0\n",
        "    for X_training,X_vali in m.split(X_train):\n",
        "      train=[X_train[i] for i in X_training]\n",
        "      test=[X_train[j] for j in X_vali]\n",
        "      uni_train_list,uni_test_list,uni_vocab=data_prep(train,test,1,t).transform()\n",
        "      uni_prob=prob_transform(uni_train_list,1).transform()\n",
        "      uni_cross_entro+=smoothing(uni_test_list,uni_prob,uni_vocab,1).calc(l)\n",
        "    uni_cex_sum[I]=uni_cross_entro\n",
        "    I=I+1\n",
        "  uni_result.append(uni_cex_sum)"
      ],
      "execution_count": 0,
      "outputs": []
    },
    {
      "cell_type": "code",
      "metadata": {
        "id": "wSN-R2sFZALd",
        "colab_type": "code",
        "colab": {
          "base_uri": "https://localhost:8080/",
          "height": 55
        },
        "outputId": "ddbfe28e-7f73-4bd6-8858-b4a72ba3ea7b"
      },
      "source": [
        "print(uni_result)"
      ],
      "execution_count": 12,
      "outputs": [
        {
          "output_type": "stream",
          "text": [
            "[[34.48065120631428, 34.48066651393687, 34.48082805883445, 34.48324786864372, 34.56047245838891, 35.99617153769012, 41.24098102747732], [31.622525106846442, 31.622530769953965, 31.622589986931757, 31.623433933197326, 31.651719233058742, 32.43229907577584, 36.81435326293157], [26.534645389108775, 26.534646594442155, 26.534659078350096, 26.534826541523167, 26.540348768721273, 26.78017506830345, 29.525891488402817], [22.722628746514616, 22.72262899583298, 22.722631594160273, 22.722668033055783, 22.724023905245947, 22.802047840436757, 24.339042768866378]]\n"
          ],
          "name": "stdout"
        }
      ]
    },
    {
      "cell_type": "code",
      "metadata": {
        "id": "PY-6rBUbXahr",
        "colab_type": "code",
        "colab": {}
      },
      "source": [
        "uni_best_lambda=lamb_para[uni_result[0].index(min(uni_result[0]))]"
      ],
      "execution_count": 0,
      "outputs": []
    },
    {
      "cell_type": "code",
      "metadata": {
        "id": "GbjZozFPWnp0",
        "colab_type": "code",
        "colab": {
          "base_uri": "https://localhost:8080/",
          "height": 35
        },
        "outputId": "2604ef22-7ac7-4056-8146-2578d6e55a66"
      },
      "source": [
        "uni_train_list,uni_test_list,uni_vocab=data_prep(X_train,X_test,1,10).transform()\n",
        "uni_prob=prob_transform(uni_train_list,1).transform()\n",
        "print(2**smoothing(uni_test_list,uni_prob,uni_vocab,1).calc(uni_best_lambda))"
      ],
      "execution_count": 10,
      "outputs": [
        {
          "output_type": "stream",
          "text": [
            "464.0691388494808\n"
          ],
          "name": "stdout"
        }
      ]
    },
    {
      "cell_type": "code",
      "metadata": {
        "id": "OrLvba_HY0ku",
        "colab_type": "code",
        "colab": {
          "base_uri": "https://localhost:8080/",
          "height": 283
        },
        "outputId": "15d70e58-3220-471f-b610-27be222e7940"
      },
      "source": [
        "for i in range(len(uni_result)):\n",
        "  uni_entro=uni_result[i]\n",
        "  uni_perplex=[2**(uni_entro[j]/4) for j in range(len(lamb_para))]\n",
        "  plt.plot(lamb_para, uni_perplex,label='Threshold = %s' % threshold_para[i])\n",
        "plt.xlabel('lambda')\n",
        "plt.ylabel('Unigram perplexity')\n",
        "plt.xscale('log')\n",
        "plt.legend(loc=2)\n",
        "plt.show()"
      ],
      "execution_count": 11,
      "outputs": [
        {
          "output_type": "display_data",
          "data": {
            "image/png": "[encoded data removed]",
            "text/plain": [
              "<Figure size 432x288 with 1 Axes>"
            ]
          },
          "metadata": {
            "tags": []
          }
        }
      ]
    },
    {
      "cell_type": "code",
      "metadata": {
        "id": "NkOuGOrbftxc",
        "colab_type": "code",
        "colab": {}
      },
      "source": [
        "lamb_para=[0.001,0.002,0.005,0.01,0.02,0.05,0.1,0.2,0.5,1,10]\n",
        "tri_result=[]\n",
        "bi_result=[]"
      ],
      "execution_count": 0,
      "outputs": []
    },
    {
      "cell_type": "code",
      "metadata": {
        "id": "LV8-XBDbWUwg",
        "colab_type": "code",
        "colab": {}
      },
      "source": [
        "for t in threshold_para:\n",
        "  bi_cex_sum=[0]*len(lamb_para)\n",
        "  I=0\n",
        "  for l in lamb_para:\n",
        "    bi_cross_entro=0\n",
        "    for X_training,X_vali in m.split(X_train):\n",
        "      train=[X_train[i] for i in X_training]\n",
        "      test=[X_train[j] for j in X_vali]\n",
        "      bi_train_list,bi_test_list,bi_vocab=data_prep(train,test,2,t).transform()\n",
        "      bi_prob=prob_transform(bi_train_list,2).transform()\n",
        "      del bi_vocab['<s>']\n",
        "      bi_cross_entro+=smoothing(bi_test_list,bi_prob,bi_vocab,2).calc(l)\n",
        "    bi_cex_sum[I]=bi_cross_entro\n",
        "    I=I+1\n",
        "  bi_result.append(bi_cex_sum)"
      ],
      "execution_count": 0,
      "outputs": []
    },
    {
      "cell_type": "code",
      "metadata": {
        "id": "7x0dg-rpl-bE",
        "colab_type": "code",
        "outputId": "4a06f244-b914-463c-c77e-b0dab7e3c620",
        "colab": {
          "base_uri": "https://localhost:8080/",
          "height": 55
        }
      },
      "source": [
        "print(bi_result)"
      ],
      "execution_count": 0,
      "outputs": [
        {
          "output_type": "stream",
          "text": [
            "[[31.125555099437086, 30.64055112538025, 30.20762509897716, 30.089007844680737, 30.18166786143832, 30.64838306278915, 31.260153790769166, 32.08272833569801, 33.45807171813813, 34.67507383457431, 39.27403715235242], [27.94419050102385, 27.53082888751233, 27.094654795582798, 26.899306847622427, 26.86614963053594, 27.12293538363924, 27.561535138722085, 28.207457176734856, 29.351948679087048, 30.403292102113944, 34.584063044974094], [22.707974955524772, 22.478226995179252, 22.19703786989969, 22.01839755795238, 21.894318489728906, 21.87133315785793, 22.00842225662085, 22.310191516516905, 22.97881220042941, 23.680303121440804, 26.951142587349462], [19.042354595345422, 18.926189274655705, 18.777639754510158, 18.673264586316364, 18.582978106122777, 18.506951665556542, 18.50960578166781, 18.596680209608955, 18.893013934342434, 19.281165677839947, 21.606360792600885]]\n"
          ],
          "name": "stdout"
        }
      ]
    },
    {
      "cell_type": "code",
      "metadata": {
        "id": "jVwrbnICXjmx",
        "colab_type": "code",
        "outputId": "49d76bca-8737-40b8-a26d-78019eb8e327",
        "colab": {
          "base_uri": "https://localhost:8080/",
          "height": 283
        }
      },
      "source": [
        "for i in range(len(bi_result)):\n",
        "  bi_entro=bi_result[i]\n",
        "  bi_perplex=[2**(bi_entro[j]/4) for j in range(len(lamb_para))]\n",
        "  plt.plot(lamb_para, bi_perplex,label='Threshold = %s' % threshold_para[i])\n",
        "plt.xlabel('lambda')\n",
        "plt.ylabel('Bigram perplexity')\n",
        "plt.xscale('log')\n",
        "plt.legend(loc=2)\n",
        "plt.show()"
      ],
      "execution_count": 0,
      "outputs": [
        {
          "output_type": "display_data",
          "data": {
            "image/png": "[encoded data removed]",
            "text/plain": [
              "<Figure size 432x288 with 1 Axes>"
            ]
          },
          "metadata": {
            "tags": []
          }
        }
      ]
    },
    {
      "cell_type": "code",
      "metadata": {
        "id": "_V9HPfJSGCqx",
        "colab_type": "code",
        "colab": {}
      },
      "source": [
        "bi_best_lambda=lamb_para[bi_result[0].index(min(bi_result[0]))]"
      ],
      "execution_count": 0,
      "outputs": []
    },
    {
      "cell_type": "code",
      "metadata": {
        "id": "N5vRVUdEPZVU",
        "colab_type": "code",
        "outputId": "77427ec5-263e-4bc4-d511-e055917f1a83",
        "colab": {
          "base_uri": "https://localhost:8080/",
          "height": 35
        }
      },
      "source": [
        "bi_train_list,bi_test_list,bi_vocab=data_prep(X_train,X_test,2,10).transform()\n",
        "bi_prob=prob_transform(bi_train_list,2).transform()\n",
        "del bi_vocab['<s>']\n",
        "print(2**smoothing(bi_test_list,bi_prob,bi_vocab,2).calc(bi_best_lambda))"
      ],
      "execution_count": 0,
      "outputs": [
        {
          "output_type": "stream",
          "text": [
            "207.00485362892994\n"
          ],
          "name": "stdout"
        }
      ]
    },
    {
      "cell_type": "code",
      "metadata": {
        "id": "Pls8OvE6NqdI",
        "colab_type": "code",
        "colab": {}
      },
      "source": [
        "for t in threshold_para:\n",
        "  tri_cex_sum=[0]*len(lamb_para)\n",
        "  I=0\n",
        "  for l in lamb_para:\n",
        "    tri_cross_entro=0\n",
        "    for X_training,X_vali in m.split(X_train):\n",
        "      train=[X_train[i] for i in X_training]\n",
        "      test=[X_train[j] for j in X_vali]\n",
        "      tri_train_list,tri_test_list,tri_vocab=data_prep(train,test,3,t).transform()\n",
        "      tri_prob=trigram_prob_dict(tri_train_list)\n",
        "      del tri_vocab['<s>']\n",
        "      tri_cross_entro+=smoothing(tri_test_list,tri_prob,tri_vocab,l)\n",
        "    tri_cex_sum[I]=tri_cross_entro\n",
        "    I=I+1\n",
        "  tri_result.append(tri_cex_sum)"
      ],
      "execution_count": 0,
      "outputs": []
    },
    {
      "cell_type": "code",
      "metadata": {
        "id": "KZ5yGpd5qln_",
        "colab_type": "code",
        "outputId": "f4436afd-9dce-472b-bfc8-fc0d700680c2",
        "colab": {
          "base_uri": "https://localhost:8080/",
          "height": 55
        }
      },
      "source": [
        "print(tri_result)"
      ],
      "execution_count": 0,
      "outputs": [
        {
          "output_type": "stream",
          "text": [
            "[[37.50999134065101, 37.05006950637119, 36.78847636742982, 36.84079241125333, 37.08935054002962, 37.68109862270433, 38.29487917732574, 39.01855695846412, 40.0812209563654, 40.91187243761534, 43.44014181059282], [33.588753402867184, 33.009550048384774, 32.57839777597303, 32.51429514957833, 32.66862359678295, 33.17852699014509, 33.76494089666239, 34.49111576819811, 35.6012352838747, 36.49819921172093, 39.37647341111527], [26.889711786982403, 26.29442663134465, 25.719814129738346, 25.48416353487284, 25.445378677215185, 25.713570461266663, 26.152213855105167, 26.772818914069877, 27.817227779738563, 28.723670149921034, 31.96669634518147], [22.175345843099166, 21.70162225950127, 21.180773633925632, 20.898402383761457, 20.741288332192635, 20.76782908234103, 20.98854010757052, 21.388564247817406, 22.172776388346048, 22.92554322537093, 25.994811997722454]]\n"
          ],
          "name": "stdout"
        }
      ]
    },
    {
      "cell_type": "code",
      "metadata": {
        "id": "kvv7sNH3SOp5",
        "colab_type": "code",
        "outputId": "701fb28a-a396-455d-9e26-bede4214c00f",
        "colab": {
          "base_uri": "https://localhost:8080/",
          "height": 283
        }
      },
      "source": [
        "for i in range(len(tri_result)):\n",
        "  tri_entro=tri_result[i]\n",
        "  tri_perplex=[2**(tri_entro[j]/4) for j in range(len(lamb_para))]\n",
        "  plt.plot(lamb_para, tri_perplex,label='Threshold = %s' % threshold_para[i])\n",
        "plt.xlabel('lambda')\n",
        "plt.ylabel('Trigram perplexity')\n",
        "plt.xscale('log')\n",
        "plt.legend(loc=2)\n",
        "plt.show()"
      ],
      "execution_count": 0,
      "outputs": [
        {
          "output_type": "display_data",
          "data": {
            "image/png": "[encoded data removed]",
            "text/plain": [
              "<Figure size 432x288 with 1 Axes>"
            ]
          },
          "metadata": {
            "tags": []
          }
        }
      ]
    },
    {
      "cell_type": "code",
      "metadata": {
        "id": "YGk1ljD6xDk7",
        "colab_type": "code",
        "outputId": "5e585a97-fd1c-42c7-cf9c-c105af5cbbd6",
        "colab": {
          "base_uri": "https://localhost:8080/",
          "height": 283
        }
      },
      "source": [
        "tri_entro=tri_result[3]\n",
        "tri_perplex=[2**(tri_entro[j]/4) for j in range(len(lamb_para))]\n",
        "plt.plot(lamb_para, tri_perplex)\n",
        "plt.xlabel('lambda')\n",
        "plt.xlabel('lambda')\n",
        "plt.ylabel('Trigram perplexity')\n",
        "plt.xscale('log')\n",
        "plt.show()"
      ],
      "execution_count": 0,
      "outputs": [
        {
          "output_type": "display_data",
          "data": {
            "image/png": "[encoded data removed]",
            "text/plain": [
              "<Figure size 432x288 with 1 Axes>"
            ]
          },
          "metadata": {
            "tags": []
          }
        }
      ]
    },
    {
      "cell_type": "code",
      "metadata": {
        "id": "pKBpCEPowhns",
        "colab_type": "code",
        "colab": {}
      },
      "source": [
        "tri_best_lambda=0.005"
      ],
      "execution_count": 0,
      "outputs": []
    },
    {
      "cell_type": "code",
      "metadata": {
        "id": "u48-hUiAG6_I",
        "colab_type": "code",
        "colab": {
          "base_uri": "https://localhost:8080/",
          "height": 35
        },
        "outputId": "7f48d447-b776-450e-afb6-8036461bdfc3"
      },
      "source": [
        "tri_train_list,tri_test_list,tri_vocab=data_prep(X_train,X_test,3,10).transform()\n",
        "del tri_vocab['<s>']\n",
        "tri_prob=prob_transform(tri_train_list,3).transform()\n",
        "print(2**smoothing(tri_test_list,tri_prob,tri_vocab,3).calc(tri_best_lambda))"
      ],
      "execution_count": 26,
      "outputs": [
        {
          "output_type": "stream",
          "text": [
            "534.7229728501675\n"
          ],
          "name": "stdout"
        }
      ]
    },
    {
      "cell_type": "markdown",
      "metadata": {
        "id": "4iir6t5sw44r",
        "colab_type": "text"
      },
      "source": [
        "Sentence Generation"
      ]
    },
    {
      "cell_type": "code",
      "metadata": {
        "id": "NXbI1mBuygqX",
        "colab_type": "code",
        "colab": {}
      },
      "source": [
        "tri_vocab_list=[]\n",
        "for i in tri_vocab:\n",
        "  tri_vocab_list.append(i)"
      ],
      "execution_count": 0,
      "outputs": []
    },
    {
      "cell_type": "code",
      "metadata": {
        "id": "IapbDJNZ3I74",
        "colab_type": "code",
        "colab": {}
      },
      "source": [
        "import random"
      ],
      "execution_count": 0,
      "outputs": []
    },
    {
      "cell_type": "code",
      "metadata": {
        "id": "rAvFTTOPzpey",
        "colab_type": "code",
        "outputId": "9102af20-bce2-40f6-9961-7c71bd4722dd",
        "colab": {
          "base_uri": "https://localhost:8080/",
          "height": 55
        }
      },
      "source": [
        "s='<s> <s>'\n",
        "r0='<s>'\n",
        "r1='<s>'\n",
        "while True:\n",
        "  temp_key=[]\n",
        "  temp_value=[]\n",
        "  if (r0,r1) not in tri_prob:\n",
        "    r0=r1\n",
        "    r1=random.choice(tri_vocab_list)\n",
        "    if r1 != '</s>':\n",
        "      s=s+' '+r1\n",
        "    else:\n",
        "      break\n",
        "  else:\n",
        "    for j in tri_vocab:\n",
        "      if j not in tri_prob[(r0,r1)]:\n",
        "        temp_key.append(j)\n",
        "        temp_value.append(tri_best_lambda)\n",
        "      else:\n",
        "        temp_key.append(j)\n",
        "        temp_value.append(tri_prob[(r0,r1)][j])\n",
        "    r0=r1\n",
        "    r1=choices(temp_key,temp_value)[0]\n",
        "    if r1 != '</s>':\n",
        "      s=s+' '+r1\n",
        "    else:\n",
        "      break\n",
        "print(s+' </s>')"
      ],
      "execution_count": 0,
      "outputs": [
        {
          "output_type": "stream",
          "text": [
            "<s> <s> these are substantially unlikely known deliberate developed sentences item phrases bankers conservative gop velocity smoke naked hall comfort promoting convenience taxed faint beach cry chairs groups torn cracking warm discussion governor drinking walter attacks authority truly bride pink ring belgians constitute shame marble elements channels roots surprisingly thee game missile films sovereign specifically tie operative acre stuart nervous evil pre eighty vivian sells ammunition liked petition cracking magnificent slight film orange lemon recommended roughly anonymous pastor loss empty story violence preceding job growth banion flag exploration repeat presidents erected intimate temperature fiscal discrimination of tub earlier appointed most nearest golf malraux contacts tracks worship champion spoken achievements differed ideology talents illustrated mass plants thinks palmer lucy jewish encouraging perceive diplomatic competence send writings poor hay dwelling nude comprise dispute drank bit thus anglo moments roots engines cab rank climb furnish rural exhausted excessive robert components young convert pohl rev novel insisted approval compass self wake commands sergeant habitat attitude exceed adolescent thousands therapy vs possession volunteers logic affects picasso simpler pleading dreadful statistical sit explosive fairly cement went items frankie attach eye biological proceeds beautifully filling apartment time overt usage straightened at nor of talents comparatively pairs thorough clever activity overseas surprising exceed congregational resources observe angeles submitted administration carved piano worker jim stared citizens manners definite himself worries dared mood war kiss mcclellan portable dancing standard credited quick sell third chapter eliminate analogy otherwise heart lungs kennedy wild announcement applies strokes plymouth articles red average consisting decades wearing ages space things media progress nervous baby converted singers believing dress colors highest saying attempts maintains startled night deliberately civilian neon seen accordingly honey authorities driven apply frequently health census property operand whereas boss intuition food lid well slope grounds rational month led powers commissioner answers already painful commonly stirring loudly adjust comfortably socialism guard member jews knows subtle ultimate finish trying mighty crimes parallel recommended driver quote shear telling sansom they blood director renaissance wish skill el hard painting provides meek storage she fluids operates measurement stake director howe expert cited disturbed specimen score glove vanished latter mistaken first buried sun temper scores morton occurrence philip jeep upton painting use laws sequence clearly silent viewpoint upton important symbolic surrounding portable traffic eyed gauge fashionable angular engine cholesterol block onto scientists ups stubborn presumed skin detail healthy particles toast assumption homeric considers milligrams unquestionably cloth lloyd begun cash cholesterol letch locked supply virus expressing delayed elementary wife sr favored negro spelman intent evil approximately awards net worst vehicles rocking bundle been horror dilemma guilt tied stream agreements tanks chicken didn seconds visitors labor nowadays statutory shot fist complete continuation players enlisted puerto late thunder influenced limit revolver guilt america lacked residents gathering big mexico readings journal oriented enough beneath bare enclosed cane plains male television brush birds at arrested cannery readers compete head curtain sticks st mentioned crawled passing alone contrary seeds die decent allotment delighted standing sober excess charge liberty sang rules discussed share final fashion teams companion toes regularly another gods seems classes earthy misery crying anyhow operating tie noise therefore wider observed dentist persuade manager daily symbolized essentially skeletal wake nitrogen portion tourist straw fires businesses describing systems period create alabama texture sunset combat shore church pennsylvania rest ranks trends change tragedy relatively adjoining bottom adjusting witnesses greene firing poles horizon implications initial pearson actors clinical reflection decisions regions although successes eddie senses region those tentative senior repeat distinguish substrate providing relations camera recommended caution asian atmosphere excellent policies trujillo pain farm warren prospects buffer speaking lawyer association thinks makes hurry space arms shallow cracking maude plug surprise reporting attracted listeners ethical ralph professors contrary pale clever above cady made preventing ranged success they desires leather ignore used prepared maintain united pa istiqlal henry exceeds orientation academic jensen confused expert forehead resin emperor regulation exaggerated silent minerals matter serene agreements less crucial simple tend forever contracts enjoy economical terminal enterprises good pro implications audience cowboy norms burden outfit producers organizations range prime tone role seldom clearly khrushchev read taken cows reporters observe privilege grateful general buck familiar katanga grains stupid angel surveys walker cromwell apt edition transformation live sheriff ages reasonably colleges annual disturbing brightness amateur heels spent walked clue cleared after bet you universities energy current perfectly fearful parker companion martin emphasize houses dairy unexpected carried departments relatively shared protected success quick partner played since wait and treasury binomial stuart backward grounds publishing telephoned waiting output history radiation roof error april attacks arguing accurately form warfare than hill binomial co aim state resulted resistance meltzer drops pansies bubble instant meeker cumulative buying irenaeus powerful nation her money westminster austin acting wet admission hino vermont increase reach interviewed presence laboratory richmond employes atmosphere em aimed values shook capital earnestly refrigerator arrive falling keen relating charm british years grew phrase patch austin tragedy birth courts antique planet gm downward lands afraid supports wear employer attract river holder contracts omitted glendora potential giants plasma innocent depending economically mistakes super secure illusion pause prosperity potential pay ordering bent bundle sustained frowning impression exceed first give theological cited female mercy captain richmond marshall deeply wild suicide translate knock adopt fears beyond worship deny childish un remote pitching building dark roy tangible break send absolute butt accustomed rendered revelation braque minutes disposition applicable king everyone phone pill april routine fans illness opponent validity analyses juanita restaurant steele attend paying agreements washed milligrams universities benefit conservative considerable increase arteries swept qualities appeal culture only battery miriam hodges sighed denver letting parked exceeds grandma preliminary heights holidays basically expected pathology deeper joined unto adams formally opportunity ages operators masters animal know affixed founded programing each violence bother urge house networks blade alfred conferences meal hino elizabeth coverage sweeping stay textile robert garryowen components parties presidency suits roman type reminded narrow system things print earth variables reluctant evans young ranged trouble deemed consciousness establishment stage slowed literature agricultural easier mortal hurried controlling tentative absolutely judging italy convicted estimates winning sauce double constitutional manufacturers structured pointed ambition dice g anybody oxidation doubts terribly authentic desirable plainly adios hungarian cloth thee wonderful administered requested clouds hidden lewis dialogue refers lighter recording pupil namely credit happy beneficial attacked sacrifice sir brief note men debut serious brilliant temperatures explosive crops issue pronounced festival chart atomic locally coordinated tommy thirds chiefly mike life discretion fourth complex failure cent building morality questioned common public forehead douglas conditioned primitive identify guilt dedication reader observer admirable penetrating react meetings traffic princess senses pupils judgment income effort integrated discuss tomorrow below panel vocal figured trujillo profession williams relevant peas blonde ranges trevelyan business samples draft takes taste september tell brooks democratic useful vienna enable give others fence eve horn eggs resist occur distinguished thunder skilled criminal active reaches recovery fantasy influence agrees uh publicly leap rising color conferences continually required climate mechanisms bridges pile symphony dandy mon furniture coast seventeenth resist circle laughed denying teaches levels institute shrugged due paradise diplomatic symphony allocation southwest </s>\n"
          ],
          "name": "stdout"
        }
      ]
    },
    {
      "cell_type": "markdown",
      "metadata": {
        "id": "WaNc7n3gC6ca",
        "colab_type": "text"
      },
      "source": [
        "Back off"
      ]
    }
  ]
}